{
 "cells": [
  {
   "cell_type": "code",
   "execution_count": null,
   "id": "23ae5ee9-4bcc-43c8-a26d-93aad59c96c0",
   "metadata": {},
   "outputs": [],
   "source": [
    "Q1. How do you comment code in Python? What are the different types of comments?"
   ]
  },
  {
   "cell_type": "code",
   "execution_count": null,
   "id": "0a1f13f3-b72f-436e-867b-dcf58eef0e6c",
   "metadata": {},
   "outputs": [],
   "source": [
    "#We comment code in python by # or \"\"\" ()\"\"\" and To comment out multiple lines in Python, we triple quotes\n",
    "( “”” “””)  or add a hash sign (#) at the beginning for simngle line however # can be used for multiple lines \n",
    "#but we need to use it in every single line in begining for single-line comments.\n",
    "\n",
    "#for ex \n",
    "#Ram is a guy9( \"\"\"use for single lines however can be used for multiple lines as well but need to use in \n",
    "    every single line\"\"\")\n",
    "\"\"\"We love to study\"\"\"( \"best for multiple lines\")"
   ]
  },
  {
   "cell_type": "code",
   "execution_count": null,
   "id": "5817d0da-282f-4cdc-b81d-df73d084eef7",
   "metadata": {},
   "outputs": [],
   "source": [
    "Q2. What are variables in Python? How do you declare and assign values to variables?"
   ]
  },
  {
   "cell_type": "code",
   "execution_count": null,
   "id": "350cf130-a998-401b-9fbf-1ffd5a5fa507",
   "metadata": {},
   "outputs": [],
   "source": [
    "\"\"\"A Python variable is a symbolic name that is a reference or pointer to an object. \n",
    "Once an object is assigned to a variable, you can refer to the object by that name. \n",
    "For example: A= (\" rohitRana\")\n",
    "\n",
    "We can not declare variable as python has no command for it however we can assign value to varibale \n",
    "for ex V=(300) here = is  used to assign a value to the variable.\"\"\"\n"
   ]
  },
  {
   "cell_type": "code",
   "execution_count": 4,
   "id": "c460a657-53ca-4eaa-aacc-fbeede7c59fb",
   "metadata": {},
   "outputs": [],
   "source": [
    "v= (300)"
   ]
  },
  {
   "cell_type": "code",
   "execution_count": 5,
   "id": "54233af8-8909-4708-9f5a-17031f399b14",
   "metadata": {},
   "outputs": [
    {
     "data": {
      "text/plain": [
       "300"
      ]
     },
     "execution_count": 5,
     "metadata": {},
     "output_type": "execute_result"
    }
   ],
   "source": [
    "v"
   ]
  },
  {
   "cell_type": "code",
   "execution_count": null,
   "id": "35a5794d-36a7-43e8-b171-e9a91f5a456a",
   "metadata": {},
   "outputs": [],
   "source": [
    "#Now you can see above v = 300 "
   ]
  },
  {
   "cell_type": "code",
   "execution_count": null,
   "id": "aa6f0e8c-b316-4129-afee-c9b6f3b25058",
   "metadata": {},
   "outputs": [],
   "source": [
    "Q3. How do you convert one data type to another in Python?"
   ]
  },
  {
   "cell_type": "code",
   "execution_count": null,
   "id": "5915e6e6-5052-4956-bbac-f62d01371c96",
   "metadata": {},
   "outputs": [],
   "source": [
    "\"\"\"I would like to inform you that all data type can not be changed or convert \n",
    "as if the data type is mutable than it can be converted to another however if data type\n",
    "is immutable than it can not be converted.\n",
    "\n",
    "Mutable data type- List, Set, Dictionary\n",
    "Immutable data type- tuples, int, str, float\"\"\""
   ]
  },
  {
   "cell_type": "code",
   "execution_count": null,
   "id": "4ed1215c-9f29-43e7-81ab-ce00092eaa77",
   "metadata": {},
   "outputs": [],
   "source": [
    "Q4. How do you write and execute a Python script from the command line?"
   ]
  },
  {
   "cell_type": "code",
   "execution_count": null,
   "id": "71ba24a2-dea8-48f3-b4de-45210e0e81f9",
   "metadata": {},
   "outputs": [],
   "source": [
    "\"\"\"First need to open command prompt\n",
    "1) first writw py\n",
    "2)print(\"Hello World\")\n",
    "3) hit the ENTER button from the keyboard, and that's it.\"\"\""
   ]
  },
  {
   "cell_type": "code",
   "execution_count": null,
   "id": "fe5539ed-b47b-499a-95ce-12470f0e9aef",
   "metadata": {},
   "outputs": [],
   "source": [
    "Q5. Given a list my_list = [1, 2, 3, 4, 5], write the code to slice the list and obtain the sub-list [2, 3]."
   ]
  },
  {
   "cell_type": "code",
   "execution_count": 1,
   "id": "50640cab-d63d-4b11-9551-22baa7cba518",
   "metadata": {},
   "outputs": [],
   "source": [
    "my_list = [1, 2, 3, 4, 5]"
   ]
  },
  {
   "cell_type": "code",
   "execution_count": 2,
   "id": "6c4226e4-da4c-4bee-95a3-a59bbe79a24b",
   "metadata": {},
   "outputs": [
    {
     "data": {
      "text/plain": [
       "[1, 2, 3, 4, 5]"
      ]
     },
     "execution_count": 2,
     "metadata": {},
     "output_type": "execute_result"
    }
   ],
   "source": [
    "my_list"
   ]
  },
  {
   "cell_type": "code",
   "execution_count": 27,
   "id": "2f2debaf-e044-49ed-ba21-e6df5129b058",
   "metadata": {},
   "outputs": [
    {
     "data": {
      "text/plain": [
       "[1, 5]"
      ]
     },
     "execution_count": 27,
     "metadata": {},
     "output_type": "execute_result"
    }
   ],
   "source": [
    "my_list[]"
   ]
  },
  {
   "cell_type": "code",
   "execution_count": 31,
   "id": "6437ce80-810e-409e-826f-3db18eae971c",
   "metadata": {},
   "outputs": [],
   "source": [
    "x =[ 1,2,3,4,5]"
   ]
  },
  {
   "cell_type": "code",
   "execution_count": 35,
   "id": "15a883ca-acca-46a6-ba3c-68f80cc7108f",
   "metadata": {},
   "outputs": [
    {
     "data": {
      "text/plain": [
       "[2, 3]"
      ]
     },
     "execution_count": 35,
     "metadata": {},
     "output_type": "execute_result"
    }
   ],
   "source": [
    "x[1:3]"
   ]
  },
  {
   "cell_type": "code",
   "execution_count": null,
   "id": "17990c37-d1b2-43fc-a638-d12d4a98757f",
   "metadata": {},
   "outputs": [],
   "source": [
    "Q6. What is a complex number in mathematics, and how is it represented in Python?"
   ]
  },
  {
   "cell_type": "code",
   "execution_count": null,
   "id": "07cc3d17-9bea-40a3-8fd6-f157373b9154",
   "metadata": {},
   "outputs": [],
   "source": [
    "\"\"\"A complex number is the sum of a real number and an imaginary number. A complex number is expressed in standard form when written a+bi where a is the real part and bi is the imaginary part. \n",
    "For example, 5+2i is a complex number.\n",
    "\n",
    "In python we represent complex number 34+5j\"\"\""
   ]
  },
  {
   "cell_type": "code",
   "execution_count": 36,
   "id": "73bd8712-d9bf-4289-a687-83c265d624a0",
   "metadata": {},
   "outputs": [],
   "source": [
    "c= 34+5j"
   ]
  },
  {
   "cell_type": "code",
   "execution_count": 37,
   "id": "4e1cd3d0-3122-4c6f-a3fb-cb41a63ab97c",
   "metadata": {},
   "outputs": [
    {
     "data": {
      "text/plain": [
       "complex"
      ]
     },
     "execution_count": 37,
     "metadata": {},
     "output_type": "execute_result"
    }
   ],
   "source": [
    "type(c)"
   ]
  },
  {
   "cell_type": "code",
   "execution_count": null,
   "id": "a4681885-935d-43ec-b879-8f5646432e2b",
   "metadata": {},
   "outputs": [],
   "source": [
    "Q7. What is the correct way to declare a variable named age and assign the value 25 to it?"
   ]
  },
  {
   "cell_type": "code",
   "execution_count": 39,
   "id": "05f015e3-65ef-4e84-96af-782aec68e8b6",
   "metadata": {},
   "outputs": [],
   "source": [
    "#The corect way is that we need to use age as variable which contains value 25.\n",
    "\n",
    "age=25 #here (=) is used to assign value(25) to variable(age)."
   ]
  },
  {
   "cell_type": "code",
   "execution_count": 40,
   "id": "dd9e5331-1fa5-4566-a59d-31edebd0b102",
   "metadata": {},
   "outputs": [
    {
     "data": {
      "text/plain": [
       "25"
      ]
     },
     "execution_count": 40,
     "metadata": {},
     "output_type": "execute_result"
    }
   ],
   "source": [
    "age"
   ]
  },
  {
   "cell_type": "code",
   "execution_count": null,
   "id": "c2145be0-e028-4bb1-9695-4558582935ad",
   "metadata": {},
   "outputs": [],
   "source": [
    "Q8. Declare a variable named price and assign the value 9.99 to it. What data type does this variable\n",
    "belong to?"
   ]
  },
  {
   "cell_type": "code",
   "execution_count": 41,
   "id": "c7bc67cc-ab06-4fdc-92dd-a723d586c8df",
   "metadata": {},
   "outputs": [],
   "source": [
    "price =9.99"
   ]
  },
  {
   "cell_type": "code",
   "execution_count": 42,
   "id": "3553c529-520a-4e11-ac6c-0ffd2ad55582",
   "metadata": {},
   "outputs": [
    {
     "data": {
      "text/plain": [
       "float"
      ]
     },
     "execution_count": 42,
     "metadata": {},
     "output_type": "execute_result"
    }
   ],
   "source": [
    "type(price)"
   ]
  },
  {
   "cell_type": "code",
   "execution_count": null,
   "id": "88af4b21-072c-405d-87b4-57d04119893a",
   "metadata": {},
   "outputs": [],
   "source": [
    "#it belongs to float type variable."
   ]
  },
  {
   "cell_type": "code",
   "execution_count": null,
   "id": "2eb15e5b-bfb8-44f8-a9fa-56c5e48b0758",
   "metadata": {},
   "outputs": [],
   "source": [
    "Q9. Create a variable named name and assign your full name to it as a string. How would you print the\n",
    "value of this variable?"
   ]
  },
  {
   "cell_type": "code",
   "execution_count": 44,
   "id": "9439b72c-489e-4abd-a35e-60e12feb14aa",
   "metadata": {},
   "outputs": [
    {
     "name": "stdout",
     "output_type": "stream",
     "text": [
      "R\n",
      "o\n",
      "h\n",
      "i\n",
      "t\n",
      " \n",
      "R\n",
      "a\n",
      "n\n",
      "a\n"
     ]
    }
   ],
   "source": [
    "name= (\"Rohit Rana\")\n",
    "for i in name:\n",
    "    print(i)"
   ]
  },
  {
   "cell_type": "code",
   "execution_count": null,
   "id": "39fcbfef-aed1-496d-afcf-dcd8d021684f",
   "metadata": {},
   "outputs": [],
   "source": [
    "Q10. Given the string \"Hello, World!\", extract the substring \"World\"."
   ]
  },
  {
   "cell_type": "code",
   "execution_count": 46,
   "id": "c973c501-9655-412f-9f8e-c68b77fe771b",
   "metadata": {},
   "outputs": [],
   "source": [
    "string = (\"Hello, World!\")"
   ]
  },
  {
   "cell_type": "code",
   "execution_count": 52,
   "id": "8a54b648-a446-402b-b273-bf03698b65b3",
   "metadata": {},
   "outputs": [
    {
     "data": {
      "text/plain": [
       "' World'"
      ]
     },
     "execution_count": 52,
     "metadata": {},
     "output_type": "execute_result"
    }
   ],
   "source": [
    "string [6:12]"
   ]
  },
  {
   "cell_type": "code",
   "execution_count": null,
   "id": "0cb3481c-5313-4c15-a96b-5c6b21464566",
   "metadata": {},
   "outputs": [],
   "source": [
    "Q11. Create a variable named \"is_student\" and assign it a boolean value indicating whether you are\n",
    "currently a student or not."
   ]
  },
  {
   "cell_type": "code",
   "execution_count": 12,
   "id": "171c04d1-7bd9-4325-af9a-83b353a05bd7",
   "metadata": {},
   "outputs": [
    {
     "name": "stdin",
     "output_type": "stream",
     "text": [
      "enter value 1\n"
     ]
    },
    {
     "name": "stdout",
     "output_type": "stream",
     "text": [
      "True\n"
     ]
    }
   ],
   "source": [
    "value=1\n",
    "is_student= int(input(\"enter value\"))\n",
    "if value == 1: \n",
    "    print(\"True\")\n",
    "else:\n",
    "    print(\"False\")\n",
    "\n",
    "\n"
   ]
  },
  {
   "cell_type": "code",
   "execution_count": null,
   "id": "44b175f0-60d2-4287-878a-2769a059cf67",
   "metadata": {},
   "outputs": [],
   "source": [
    "\n"
   ]
  },
  {
   "cell_type": "code",
   "execution_count": null,
   "id": "b94f5163-ffd8-4220-b948-6605299f131f",
   "metadata": {},
   "outputs": [],
   "source": []
  }
 ],
 "metadata": {
  "kernelspec": {
   "display_name": "Python 3 (ipykernel)",
   "language": "python",
   "name": "python3"
  },
  "language_info": {
   "codemirror_mode": {
    "name": "ipython",
    "version": 3
   },
   "file_extension": ".py",
   "mimetype": "text/x-python",
   "name": "python",
   "nbconvert_exporter": "python",
   "pygments_lexer": "ipython3",
   "version": "3.10.8"
  }
 },
 "nbformat": 4,
 "nbformat_minor": 5
}
